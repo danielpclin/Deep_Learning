{
 "cells": [
  {
   "cell_type": "markdown",
   "metadata": {},
   "source": [
    "# Homework #2"
   ]
  },
  {
   "cell_type": "raw",
   "metadata": {},
   "source": [
    "File Naming Rule: 1082_PDL_HWX_StudentID.ipynb\n",
    "             e.g. 1082_PDL_HW01_104123456.ipynb"
   ]
  },
  {
   "cell_type": "raw",
   "metadata": {},
   "source": [
    "Due Date: March 26, 12:00 pm. (Hard Dealine)"
   ]
  },
  {
   "cell_type": "markdown",
   "metadata": {},
   "source": [
    "How to do it? Uploading your .ipynb file into the corresponding homework in the LMS system. Any delay will not be accepted. "
   ]
  },
  {
   "cell_type": "markdown",
   "metadata": {},
   "source": [
    "##  Question 1: (Total 6 points)"
   ]
  },
  {
   "cell_type": "markdown",
   "metadata": {},
   "source": [
    "Below is a mapping from city abbreviations to their Chinese city names "
   ]
  },
  {
   "cell_type": "code",
   "execution_count": 1,
   "metadata": {},
   "outputs": [],
   "source": [
    "city=\"\"\"TPE＝台北\n",
    "TXG＝台中\n",
    "KHH＝高雄\n",
    "HUN＝花蓮\n",
    "HKG＝香港\n",
    "MFM＝澳門\n",
    "BJS＝北京\n",
    "SHA＝上海\n",
    "CAN＝廣州\n",
    "CTU＝成都\n",
    "CKG＝重慶\n",
    "CGO＝鄭州\n",
    "CSX＝長沙\n",
    "DLC＝大連\n",
    "FOC＝福州\n",
    "HAK＝海口\n",
    "HFE＝合肥\n",
    "HGH＝杭州\n",
    "HRB＝哈爾濱\n",
    "KWE＝貴陽\n",
    "KMG＝昆明\n",
    "KWL＝桂林\n",
    "NGB＝寧波\n",
    "NKG＝南京\n",
    "NNG＝南寧\n",
    "SHE＝瀋陽\n",
    "SYX＝三亞\n",
    "TAO＝青島\n",
    "TNA＝濟南\n",
    "TSN＝天津\n",
    "WNZ＝溫州\n",
    "WUH＝武漢\n",
    "WUX＝無錫\n",
    "SIA＝西安\n",
    "XMN＝廈門\n",
    "TYO＝東京\n",
    "OSA＝大阪\n",
    "NGO＝名古屋\n",
    "OKA＝琉球\n",
    "FUK＝福岡\n",
    "SEL＝首爾\n",
    "PUS＝釜山\n",
    "CJU＝濟州島\n",
    "BKK＝曼谷\n",
    "HKT＝普吉島\n",
    "CNX＝清邁\n",
    "SIN＝新加坡\n",
    "KUL＝吉隆坡\n",
    "KCH＝古晉\n",
    "PEN＝檳城\n",
    "JKT＝雅加達\n",
    "DPS＝巴里島\n",
    "SUB＝泗水\n",
    "SGN＝胡志明市\n",
    "HAN＝河內\n",
    "DAD＝峴港\n",
    "MNL＝馬尼拉\n",
    "CEB＝宿霧\n",
    "LAO＝佬沃\n",
    "ADL＝阿德雷得\n",
    "BNE＝布里斯班\n",
    "CBR＝坎培拉\n",
    "CNS＝凱恩斯\n",
    "MEL＝墨爾本\n",
    "PER＝伯斯\n",
    "SYD＝雪梨\n",
    "AKL＝奧克蘭\n",
    "CHC＝基督城\n",
    "DEL＝德里\n",
    "BOM＝孟買\n",
    "LON＝倫敦\n",
    "BHX＝伯明罕\n",
    "EDI＝愛丁堡\n",
    "MAN＝曼徹斯特\n",
    "DUB＝都柏林\n",
    "PAR*＝巴黎\n",
    "NCE＝尼斯\n",
    "BER＝柏林\n",
    "DUS＝杜塞道夫\n",
    "FRA＝法蘭克福\n",
    "HAM＝漢堡\n",
    "HAJ＝漢諾威\n",
    "MUC＝慕尼黑\n",
    "NUE＝紐倫堡\n",
    "STR＝斯圖加特\n",
    "WAW＝華沙\n",
    "AMS＝阿姆斯特丹\n",
    "ZRH＝蘇黎世\n",
    "GVA＝日內瓦\n",
    "VIE＝維也納\n",
    "SZG＝薩爾斯堡\n",
    "MAD＝馬德里\n",
    "BCN＝巴塞隆納\n",
    "LIS＝里斯本\n",
    "ROM＝羅馬\n",
    "MIL＝米蘭\n",
    "VCE＝威尼斯\n",
    "ATH＝雅典\n",
    "YOW＝渥太華\n",
    "YTO＝多倫多\n",
    "YVR＝溫哥華\n",
    "NYC＝紐約\n",
    "WAS＝華盛頓\n",
    "LAX＝洛杉磯\n",
    "SFO＝舊金山\n",
    "SEA＝西雅圖\n",
    "ATL＝亞特蘭大\n",
    "AUS＝奧斯汀\n",
    "BOS＝波士頓\n",
    "CHI＝芝加哥\n",
    "DEN＝丹佛\n",
    "DTT＝底特律\n",
    "HNL＝夏威夷檀香山\n",
    "HOU＝休斯頓\n",
    "MIA＝邁阿密\n",
    "PHL＝費城\n",
    "PHX＝鳳凰城\n",
    "MEX＝墨西哥\n",
    "PTY＝巴拿馬\"\"\""
   ]
  },
  {
   "cell_type": "markdown",
   "metadata": {},
   "source": [
    "### (a) Make a mapping table (2 points)  "
   ]
  },
  {
   "cell_type": "code",
   "execution_count": null,
   "metadata": {},
   "outputs": [],
   "source": []
  },
  {
   "cell_type": "code",
   "execution_count": null,
   "metadata": {},
   "outputs": [],
   "source": []
  },
  {
   "cell_type": "markdown",
   "metadata": {},
   "source": [
    "### (b) Given an inputted city abbreviation and then check whether it exists or not? If yes, showing its Chinese city name. (4 points)"
   ]
  },
  {
   "cell_type": "code",
   "execution_count": null,
   "metadata": {},
   "outputs": [],
   "source": []
  },
  {
   "cell_type": "code",
   "execution_count": null,
   "metadata": {},
   "outputs": [],
   "source": []
  },
  {
   "cell_type": "markdown",
   "metadata": {},
   "source": [
    "## Question 2: (4 Points)"
   ]
  },
  {
   "cell_type": "markdown",
   "metadata": {},
   "source": [
    "Below is a mapping from a case-insensitive character to its corresponding number. "
   ]
  },
  {
   "cell_type": "raw",
   "metadata": {},
   "source": [
    "A/a=1, B/b=2, C/c=3, ... X/x=24, Y/y=25, Z/z=26"
   ]
  },
  {
   "cell_type": "markdown",
   "metadata": {},
   "source": [
    "### What is the sum of the corresponding numbers in the poem《The Zen of Python》written by Tim Peters? "
   ]
  },
  {
   "cell_type": "code",
   "execution_count": 2,
   "metadata": {},
   "outputs": [],
   "source": [
    "poem =\"\"\"The Zen of Python, by Tim Peters\n",
    "\n",
    "Beautiful is better than ugly.\n",
    "Explicit is better than implicit.\n",
    "Simple is better than complex.\n",
    "Complex is better than complicated.\n",
    "Flat is better than nested.\n",
    "Sparse is better than dense.\n",
    "Readability counts.\n",
    "Special cases aren't special enough to break the rules.\n",
    "Although practicality beats purity.\n",
    "Errors should never pass silently.\n",
    "Unless explicitly silenced.\n",
    "In the face of ambiguity, refuse the temptation to guess.\n",
    "There should be one-- and preferably only one --obvious way to do it.\n",
    "Although that way may not be obvious at first unless you're Dutch.\n",
    "Now is better than never.\n",
    "Although never is often better than *right* now.\n",
    "If the implementation is hard to explain, it's a bad idea.\n",
    "If the implementation is easy to explain, it may be a good idea.\n",
    "Namespaces are one honking great idea -- let's do more of those!\"\"\""
   ]
  },
  {
   "cell_type": "code",
   "execution_count": null,
   "metadata": {},
   "outputs": [],
   "source": []
  },
  {
   "cell_type": "code",
   "execution_count": null,
   "metadata": {},
   "outputs": [],
   "source": []
  }
 ],
 "metadata": {
  "kernelspec": {
   "display_name": "Python 3",
   "language": "python",
   "name": "python3"
  },
  "language_info": {
   "codemirror_mode": {
    "name": "ipython",
    "version": 3
   },
   "file_extension": ".py",
   "mimetype": "text/x-python",
   "name": "python",
   "nbconvert_exporter": "python",
   "pygments_lexer": "ipython3",
   "version": "3.7.4"
  }
 },
 "nbformat": 4,
 "nbformat_minor": 2
}
