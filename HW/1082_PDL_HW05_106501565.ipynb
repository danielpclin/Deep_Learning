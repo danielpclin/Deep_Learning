{
 "cells": [
  {
   "cell_type": "markdown",
   "metadata": {},
   "source": [
    "# Homework #5"
   ]
  },
  {
   "cell_type": "raw",
   "metadata": {},
   "source": [
    "File Naming Rule: 1082_PDL_HWX_StudentID.ipynb\n",
    "             e.g. 1082_PDL_HW01_104123456.ipynb"
   ]
  },
  {
   "cell_type": "raw",
   "metadata": {},
   "source": [
    "Due Date: April 23, 12:00 pm. (Hard Dealine)"
   ]
  },
  {
   "cell_type": "markdown",
   "metadata": {},
   "source": [
    "How to do it? Uploading your .ipynb file into the corresponding homework in the LMS system. Any delay will not be accepted. "
   ]
  },
  {
   "cell_type": "markdown",
   "metadata": {},
   "source": [
    "##  Question 1: (5 points)"
   ]
  },
  {
   "cell_type": "markdown",
   "metadata": {},
   "source": [
    "### Multiply a matrix by another matrix, we need to do the dot product of rows and columns.  Let a user input two matrices A and B, calculate the matrix multiplication AB if possible.   "
   ]
  },
  {
   "cell_type": "markdown",
   "metadata": {},
   "source": [
    "How to multiply two matrices? \n",
    "* Reference: https://en.wikipedia.org/wiki/Matrix_multiplication"
   ]
  },
  {
   "cell_type": "code",
   "execution_count": 1,
   "metadata": {},
   "outputs": [
    {
     "name": "stdout",
     "output_type": "stream",
     "text": [
      "Input matrix A:\n",
      "Enter the number of rows: 2\n",
      "Enter the number of columns: 2\n",
      "Enter the entries in a single line (separated by space): 1 2 3 4\n",
      "[[1 2]\n",
      " [3 4]]\n",
      "Input matrix B:\n",
      "Enter the number of rows: 2\n",
      "Enter the number of columns: 2\n",
      "Enter the entries in a single line (separated by space): 1 2 3 4\n",
      "[[1 2]\n",
      " [3 4]]\n"
     ]
    }
   ],
   "source": [
    "import numpy as np \n",
    "\n",
    "def getMatrixFromUser():\n",
    "    R = int(input(\"Enter the number of rows: \")) \n",
    "    C = int(input(\"Enter the number of columns: \")) \n",
    "\n",
    "    entries = input(\"Enter the entries in a single line (separated by space): \") \n",
    "\n",
    "    entries = list(map(int, entries.split())) \n",
    "\n",
    "    matrix = np.array(entries).reshape(R, C) \n",
    "    print(matrix) \n",
    "    return matrix\n",
    "\n",
    "print(\"Input matrix A:\")\n",
    "A = getMatrixFromUser()\n",
    "\n",
    "print(\"Input matrix B:\")\n",
    "B = getMatrixFromUser()"
   ]
  },
  {
   "cell_type": "code",
   "execution_count": 2,
   "metadata": {},
   "outputs": [
    {
     "name": "stdout",
     "output_type": "stream",
     "text": [
      "[[ 7 10]\n",
      " [15 22]]\n"
     ]
    }
   ],
   "source": [
    "C = np.matmul(A, B)\n",
    "print(C)"
   ]
  },
  {
   "cell_type": "markdown",
   "metadata": {},
   "source": [
    "##  Question 2: (5 points)"
   ]
  },
  {
   "cell_type": "markdown",
   "metadata": {},
   "source": [
    "### Calculate the determinant of a given square matrix S"
   ]
  },
  {
   "cell_type": "markdown",
   "metadata": {},
   "source": [
    "One way of computing the determinant of an n×n matrix A is to use the  cofactor expansion\n",
    "* Referecne: https://people.richland.edu/james/lecture/m116/matrices/determinant.html"
   ]
  },
  {
   "cell_type": "code",
   "execution_count": 3,
   "metadata": {},
   "outputs": [
    {
     "name": "stdout",
     "output_type": "stream",
     "text": [
      "Enter the number of rows: 2\n",
      "Enter the number of columns: 2\n",
      "Enter the entries in a single line (separated by space): 1 2 3 4\n",
      "[[1 2]\n",
      " [3 4]]\n",
      "-2.0000000000000004\n"
     ]
    }
   ],
   "source": [
    "D = getMatrixFromUser()\n",
    "det = np.linalg.det(D)\n",
    "print(det) # may have a little rounding error due to compilation by LU factorization with LAPACK routine z/dgetrf"
   ]
  },
  {
   "cell_type": "code",
   "execution_count": null,
   "metadata": {},
   "outputs": [],
   "source": []
  }
 ],
 "metadata": {
  "kernelspec": {
   "display_name": "Python 3",
   "language": "python",
   "name": "python3"
  },
  "language_info": {
   "codemirror_mode": {
    "name": "ipython",
    "version": 3
   },
   "file_extension": ".py",
   "mimetype": "text/x-python",
   "name": "python",
   "nbconvert_exporter": "python",
   "pygments_lexer": "ipython3",
   "version": "3.7.6"
  }
 },
 "nbformat": 4,
 "nbformat_minor": 2
}