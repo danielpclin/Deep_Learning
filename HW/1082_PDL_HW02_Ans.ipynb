{
 "cells": [
  {
   "cell_type": "markdown",
   "metadata": {},
   "source": [
    "# Homework #2"
   ]
  },
  {
   "cell_type": "raw",
   "metadata": {},
   "source": [
    "File Naming Rule: 1082_PDL_HWX_StudentID.ipynb\n",
    "             e.g. 1082_PDL_HW02_104123456.ipynb"
   ]
  },
  {
   "cell_type": "raw",
   "metadata": {},
   "source": [
    "Due Date: March 26, 12:00 pm. (Hard Dealine)"
   ]
  },
  {
   "cell_type": "markdown",
   "metadata": {},
   "source": [
    "How to do it? Uploading your .ipynb file into the corresponding homework in the LMS system. Any delay will not be accepted. "
   ]
  },
  {
   "cell_type": "markdown",
   "metadata": {},
   "source": [
    "##  Question 1: (Total 6 points)"
   ]
  },
  {
   "cell_type": "markdown",
   "metadata": {},
   "source": [
    "Below is a mapping from city abbreviations to their Chinese city names "
   ]
  },
  {
   "cell_type": "code",
   "execution_count": 1,
   "metadata": {},
   "outputs": [],
   "source": [
    "city=\"\"\"TPE＝台北\n",
    "TXG＝台中\n",
    "KHH＝高雄\n",
    "HUN＝花蓮\n",
    "HKG＝香港\n",
    "MFM＝澳門\n",
    "BJS＝北京\n",
    "SHA＝上海\n",
    "CAN＝廣州\n",
    "CTU＝成都\n",
    "CKG＝重慶\n",
    "CGO＝鄭州\n",
    "CSX＝長沙\n",
    "DLC＝大連\n",
    "FOC＝福州\n",
    "HAK＝海口\n",
    "HFE＝合肥\n",
    "HGH＝杭州\n",
    "HRB＝哈爾濱\n",
    "KWE＝貴陽\n",
    "KMG＝昆明\n",
    "KWL＝桂林\n",
    "NGB＝寧波\n",
    "NKG＝南京\n",
    "NNG＝南寧\n",
    "SHE＝瀋陽\n",
    "SYX＝三亞\n",
    "TAO＝青島\n",
    "TNA＝濟南\n",
    "TSN＝天津\n",
    "WNZ＝溫州\n",
    "WUH＝武漢\n",
    "WUX＝無錫\n",
    "SIA＝西安\n",
    "XMN＝廈門\n",
    "TYO＝東京\n",
    "OSA＝大阪\n",
    "NGO＝名古屋\n",
    "OKA＝琉球\n",
    "FUK＝福岡\n",
    "SEL＝首爾\n",
    "PUS＝釜山\n",
    "CJU＝濟州島\n",
    "BKK＝曼谷\n",
    "HKT＝普吉島\n",
    "CNX＝清邁\n",
    "SIN＝新加坡\n",
    "KUL＝吉隆坡\n",
    "KCH＝古晉\n",
    "PEN＝檳城\n",
    "JKT＝雅加達\n",
    "DPS＝巴里島\n",
    "SUB＝泗水\n",
    "SGN＝胡志明市\n",
    "HAN＝河內\n",
    "DAD＝峴港\n",
    "MNL＝馬尼拉\n",
    "CEB＝宿霧\n",
    "LAO＝佬沃\n",
    "ADL＝阿德雷得\n",
    "BNE＝布里斯班\n",
    "CBR＝坎培拉\n",
    "CNS＝凱恩斯\n",
    "MEL＝墨爾本\n",
    "PER＝伯斯\n",
    "SYD＝雪梨\n",
    "AKL＝奧克蘭\n",
    "CHC＝基督城\n",
    "DEL＝德里\n",
    "BOM＝孟買\n",
    "LON＝倫敦\n",
    "BHX＝伯明罕\n",
    "EDI＝愛丁堡\n",
    "MAN＝曼徹斯特\n",
    "DUB＝都柏林\n",
    "PAR*＝巴黎\n",
    "NCE＝尼斯\n",
    "BER＝柏林\n",
    "DUS＝杜塞道夫\n",
    "FRA＝法蘭克福\n",
    "HAM＝漢堡\n",
    "HAJ＝漢諾威\n",
    "MUC＝慕尼黑\n",
    "NUE＝紐倫堡\n",
    "STR＝斯圖加特\n",
    "WAW＝華沙\n",
    "AMS＝阿姆斯特丹\n",
    "ZRH＝蘇黎世\n",
    "GVA＝日內瓦\n",
    "VIE＝維也納\n",
    "SZG＝薩爾斯堡\n",
    "MAD＝馬德里\n",
    "BCN＝巴塞隆納\n",
    "LIS＝里斯本\n",
    "ROM＝羅馬\n",
    "MIL＝米蘭\n",
    "VCE＝威尼斯\n",
    "ATH＝雅典\n",
    "YOW＝渥太華\n",
    "YTO＝多倫多\n",
    "YVR＝溫哥華\n",
    "NYC＝紐約\n",
    "WAS＝華盛頓\n",
    "LAX＝洛杉磯\n",
    "SFO＝舊金山\n",
    "SEA＝西雅圖\n",
    "ATL＝亞特蘭大\n",
    "AUS＝奧斯汀\n",
    "BOS＝波士頓\n",
    "CHI＝芝加哥\n",
    "DEN＝丹佛\n",
    "DTT＝底特律\n",
    "HNL＝夏威夷檀香山\n",
    "HOU＝休斯頓\n",
    "MIA＝邁阿密\n",
    "PHL＝費城\n",
    "PHX＝鳳凰城\n",
    "MEX＝墨西哥\n",
    "PTY＝巴拿馬\"\"\""
   ]
  },
  {
   "cell_type": "markdown",
   "metadata": {},
   "source": [
    "### (a) Make a mapping table (2 points)  "
   ]
  },
  {
   "cell_type": "code",
   "execution_count": 2,
   "metadata": {},
   "outputs": [
    {
     "data": {
      "text/plain": [
       "dict_items([('TPE', '台北'), ('TXG', '台中'), ('KHH', '高雄'), ('HUN', '花蓮'), ('HKG', '香港'), ('MFM', '澳門'), ('BJS', '北京'), ('SHA', '上海'), ('CAN', '廣州'), ('CTU', '成都'), ('CKG', '重慶'), ('CGO', '鄭州'), ('CSX', '長沙'), ('DLC', '大連'), ('FOC', '福州'), ('HAK', '海口'), ('HFE', '合肥'), ('HGH', '杭州'), ('HRB', '哈爾濱'), ('KWE', '貴陽'), ('KMG', '昆明'), ('KWL', '桂林'), ('NGB', '寧波'), ('NKG', '南京'), ('NNG', '南寧'), ('SHE', '瀋陽'), ('SYX', '三亞'), ('TAO', '青島'), ('TNA', '濟南'), ('TSN', '天津'), ('WNZ', '溫州'), ('WUH', '武漢'), ('WUX', '無錫'), ('SIA', '西安'), ('XMN', '廈門'), ('TYO', '東京'), ('OSA', '大阪'), ('NGO', '名古屋'), ('OKA', '琉球'), ('FUK', '福岡'), ('SEL', '首爾'), ('PUS', '釜山'), ('CJU', '濟州島'), ('BKK', '曼谷'), ('HKT', '普吉島'), ('CNX', '清邁'), ('SIN', '新加坡'), ('KUL', '吉隆坡'), ('KCH', '古晉'), ('PEN', '檳城'), ('JKT', '雅加達'), ('DPS', '巴里島'), ('SUB', '泗水'), ('SGN', '胡志明市'), ('HAN', '河內'), ('DAD', '峴港'), ('MNL', '馬尼拉'), ('CEB', '宿霧'), ('LAO', '佬沃'), ('ADL', '阿德雷得'), ('BNE', '布里斯班'), ('CBR', '坎培拉'), ('CNS', '凱恩斯'), ('MEL', '墨爾本'), ('PER', '伯斯'), ('SYD', '雪梨'), ('AKL', '奧克蘭'), ('CHC', '基督城'), ('DEL', '德里'), ('BOM', '孟買'), ('LON', '倫敦'), ('BHX', '伯明罕'), ('EDI', '愛丁堡'), ('MAN', '曼徹斯特'), ('DUB', '都柏林'), ('PAR*', '巴黎'), ('NCE', '尼斯'), ('BER', '柏林'), ('DUS', '杜塞道夫'), ('FRA', '法蘭克福'), ('HAM', '漢堡'), ('HAJ', '漢諾威'), ('MUC', '慕尼黑'), ('NUE', '紐倫堡'), ('STR', '斯圖加特'), ('WAW', '華沙'), ('AMS', '阿姆斯特丹'), ('ZRH', '蘇黎世'), ('GVA', '日內瓦'), ('VIE', '維也納'), ('SZG', '薩爾斯堡'), ('MAD', '馬德里'), ('BCN', '巴塞隆納'), ('LIS', '里斯本'), ('ROM', '羅馬'), ('MIL', '米蘭'), ('VCE', '威尼斯'), ('ATH', '雅典'), ('YOW', '渥太華'), ('YTO', '多倫多'), ('YVR', '溫哥華'), ('NYC', '紐約'), ('WAS', '華盛頓'), ('LAX', '洛杉磯'), ('SFO', '舊金山'), ('SEA', '西雅圖'), ('ATL', '亞特蘭大'), ('AUS', '奧斯汀'), ('BOS', '波士頓'), ('CHI', '芝加哥'), ('DEN', '丹佛'), ('DTT', '底特律'), ('HNL', '夏威夷檀香山'), ('HOU', '休斯頓'), ('MIA', '邁阿密'), ('PHL', '費城'), ('PHX', '鳳凰城'), ('MEX', '墨西哥'), ('PTY', '巴拿馬')])"
      ]
     },
     "execution_count": 2,
     "metadata": {},
     "output_type": "execute_result"
    }
   ],
   "source": [
    "# Method 1 by lhlee： data structure only \n",
    "cr = city.replace(\"\\n\",\"＝\")\n",
    "CodeName = cr.split(\"＝\")\n",
    "ECDict = dict(zip(CodeName[::2],CodeName[1::2]))\n",
    "ECDict.items()"
   ]
  },
  {
   "cell_type": "code",
   "execution_count": 3,
   "metadata": {},
   "outputs": [],
   "source": [
    "# Method 2 by lhlee： with program structure \n",
    "ECDict = {} # empty dictionary\n",
    "cr = city.replace(\"\\n\",\"＝\")\n",
    "CodeName = cr.split(\"＝\")\n",
    "for i in range(len(CodeName[::2])): # CodeName[::2]: city code list\n",
    "    c = CodeName[::2][i]\n",
    "    ECDict[c]= CodeName[1::2][i] # CodeName[1::2]: Chinese name list\n",
    "#ECDict.items()"
   ]
  },
  {
   "cell_type": "code",
   "execution_count": 4,
   "metadata": {},
   "outputs": [],
   "source": [
    "# Method 3 by lhlee： dictionary comprehension (generator)\n",
    "cr = city.replace(\"\\n\",\"＝\")\n",
    "CodeName = cr.split(\"＝\")\n",
    "ECDict = { CodeName[::2][i]:CodeName[1::2][i] for i in range(len(CodeName[::2]))}\n",
    "# ECDict.items()"
   ]
  },
  {
   "cell_type": "code",
   "execution_count": 5,
   "metadata": {},
   "outputs": [
    {
     "data": {
      "text/html": [
       "<div>\n",
       "<style scoped>\n",
       "    .dataframe tbody tr th:only-of-type {\n",
       "        vertical-align: middle;\n",
       "    }\n",
       "\n",
       "    .dataframe tbody tr th {\n",
       "        vertical-align: top;\n",
       "    }\n",
       "\n",
       "    .dataframe thead th {\n",
       "        text-align: right;\n",
       "    }\n",
       "</style>\n",
       "<table border=\"1\" class=\"dataframe\">\n",
       "  <thead>\n",
       "    <tr style=\"text-align: right;\">\n",
       "      <th></th>\n",
       "      <th>abbr</th>\n",
       "      <th>Chinese</th>\n",
       "    </tr>\n",
       "  </thead>\n",
       "  <tbody>\n",
       "    <tr>\n",
       "      <td>0</td>\n",
       "      <td>TPE</td>\n",
       "      <td>台北</td>\n",
       "    </tr>\n",
       "    <tr>\n",
       "      <td>1</td>\n",
       "      <td>TXG</td>\n",
       "      <td>台中</td>\n",
       "    </tr>\n",
       "    <tr>\n",
       "      <td>2</td>\n",
       "      <td>KHH</td>\n",
       "      <td>高雄</td>\n",
       "    </tr>\n",
       "    <tr>\n",
       "      <td>3</td>\n",
       "      <td>HUN</td>\n",
       "      <td>花蓮</td>\n",
       "    </tr>\n",
       "    <tr>\n",
       "      <td>4</td>\n",
       "      <td>HKG</td>\n",
       "      <td>香港</td>\n",
       "    </tr>\n",
       "    <tr>\n",
       "      <td>...</td>\n",
       "      <td>...</td>\n",
       "      <td>...</td>\n",
       "    </tr>\n",
       "    <tr>\n",
       "      <td>114</td>\n",
       "      <td>MIA</td>\n",
       "      <td>邁阿密</td>\n",
       "    </tr>\n",
       "    <tr>\n",
       "      <td>115</td>\n",
       "      <td>PHL</td>\n",
       "      <td>費城</td>\n",
       "    </tr>\n",
       "    <tr>\n",
       "      <td>116</td>\n",
       "      <td>PHX</td>\n",
       "      <td>鳳凰城</td>\n",
       "    </tr>\n",
       "    <tr>\n",
       "      <td>117</td>\n",
       "      <td>MEX</td>\n",
       "      <td>墨西哥</td>\n",
       "    </tr>\n",
       "    <tr>\n",
       "      <td>118</td>\n",
       "      <td>PTY</td>\n",
       "      <td>巴拿馬</td>\n",
       "    </tr>\n",
       "  </tbody>\n",
       "</table>\n",
       "<p>119 rows × 2 columns</p>\n",
       "</div>"
      ],
      "text/plain": [
       "    abbr Chinese\n",
       "0    TPE      台北\n",
       "1    TXG      台中\n",
       "2    KHH      高雄\n",
       "3    HUN      花蓮\n",
       "4    HKG      香港\n",
       "..   ...     ...\n",
       "114  MIA     邁阿密\n",
       "115  PHL      費城\n",
       "116  PHX     鳳凰城\n",
       "117  MEX     墨西哥\n",
       "118  PTY     巴拿馬\n",
       "\n",
       "[119 rows x 2 columns]"
      ]
     },
     "execution_count": 5,
     "metadata": {},
     "output_type": "execute_result"
    }
   ],
   "source": [
    "#By 昌浩\n",
    "#split the city\n",
    "city_list=city.split('\\n')\n",
    "#split the city abbreviation  and chinese name\n",
    "citysplit=[]\n",
    "for i in city_list:\n",
    "    citysplit.append(i.split('＝'))\n",
    "#make the mapping table\n",
    "import pandas as pd\n",
    "citydf=pd.DataFrame(citysplit,columns=['abbr','Chinese'])\n",
    "citydf"
   ]
  },
  {
   "cell_type": "code",
   "execution_count": 6,
   "metadata": {},
   "outputs": [
    {
     "name": "stdout",
     "output_type": "stream",
     "text": [
      "     abr  chn\n",
      "0    TPE   台北\n",
      "1    TXG   台中\n",
      "2    KHH   高雄\n",
      "3    HUN   花蓮\n",
      "4    HKG   香港\n",
      "..   ...  ...\n",
      "114  MIA  邁阿密\n",
      "115  PHL   費城\n",
      "116  PHX  鳳凰城\n",
      "117  MEX  墨西哥\n",
      "118  PTY  巴拿馬\n",
      "\n",
      "[119 rows x 2 columns]\n"
     ]
    }
   ],
   "source": [
    "#By 柏翰\n",
    "a = city.split()\n",
    "abr = []\n",
    "chn = []\n",
    "for i in a:\n",
    "    abr.append(i.split('＝')[0])\n",
    "    chn.append(i.split('＝')[1])\n",
    "import pandas as pd\n",
    "df = pd.DataFrame(list(zip(abr, chn)), columns =['abr', 'chn'])\n",
    "print(df)"
   ]
  },
  {
   "cell_type": "markdown",
   "metadata": {},
   "source": [
    "### (b) Given an inputted city abbreviation and then check whether it exists or not? If yes, showing its Chinese city name. (4 points)"
   ]
  },
  {
   "cell_type": "code",
   "execution_count": 7,
   "metadata": {},
   "outputs": [
    {
     "name": "stdout",
     "output_type": "stream",
     "text": [
      "Please input a city abbreviation: TPE\n",
      "TPE , its Chinese city name is  台北\n"
     ]
    }
   ],
   "source": [
    "# Method 1 by lhlee: if .. else ..\n",
    "code = input(\"Please input a city abbreviation: \")\n",
    "if code in ECDict:\n",
    "    print(code, \", its Chinese city name is \", ECDict[code])\n",
    "else:\n",
    "    print(code, \"NOT in the mapping table\")\n",
    "    "
   ]
  },
  {
   "cell_type": "code",
   "execution_count": 8,
   "metadata": {},
   "outputs": [
    {
     "name": "stdout",
     "output_type": "stream",
     "text": [
      "Please input a city abbreviation (type q to quit)：TPE\n",
      "TPE , its Chinese city name is  台北\n",
      "Please input a city abbreviation (type q to quit)：XXX\n",
      "XXX NOT in the mapping table\n",
      "Please input a city abbreviation (type q to quit)：q\n"
     ]
    }
   ],
   "source": [
    "# Method 2 by lhlee: while ...\n",
    "while True:\n",
    "    code = input(\"Please input a city abbreviation (type q to quit)：\")\n",
    "    if (code ==\"q\"):\n",
    "        break\n",
    "    if code in ECDict:\n",
    "        print(code, \", its Chinese city name is \", ECDict[code])\n",
    "    else:\n",
    "        print(code, \"NOT in the mapping table\")"
   ]
  },
  {
   "cell_type": "code",
   "execution_count": 9,
   "metadata": {},
   "outputs": [
    {
     "name": "stdout",
     "output_type": "stream",
     "text": [
      "Given an inputted city abbreviation :TPE\n",
      "City abbreviation: TPE\n",
      "exists\n",
      "Chinese city name: 台北\n",
      "Given an inputted city abbreviation :XXX\n",
      "City abbreviation: XXX\n",
      "NOT exists\n"
     ]
    }
   ],
   "source": [
    "#By 昌浩\n",
    "def show(df,city):\n",
    "    abbr=df.abbr.tolist()\n",
    "    citylist=df.Chinese.tolist()\n",
    "    if city in abbr:\n",
    "        print('City abbreviation:',city)\n",
    "        print('exists')\n",
    "        print('Chinese city name:',citylist[abbr.index(city)])\n",
    "        return True\n",
    "    else:        \n",
    "        print('City abbreviation:',city)\n",
    "        print('NOT exists')\n",
    "        return False\n",
    "\n",
    "while True:\n",
    "    abbr_=input(\"Given an inputted city abbreviation :\")\n",
    "    abbr_=abbr_.upper() #將輸入轉成大寫\n",
    "    check=show(citydf,abbr_)\n",
    "    if check==False:\n",
    "        break"
   ]
  },
  {
   "cell_type": "markdown",
   "metadata": {},
   "source": [
    "## Question 2: (4 Points)"
   ]
  },
  {
   "cell_type": "markdown",
   "metadata": {},
   "source": [
    "Below is a mapping from a case-insensitive character to its corresponding number. "
   ]
  },
  {
   "cell_type": "raw",
   "metadata": {},
   "source": [
    "A/a=1, B/b=2, C/c=3, ... X/x=24, Y/y=25, Z/z=26"
   ]
  },
  {
   "cell_type": "markdown",
   "metadata": {},
   "source": [
    "### What is the sum of the corresponding numbers in the poem《The Zen of Python》written by Tim Peters? "
   ]
  },
  {
   "cell_type": "code",
   "execution_count": 10,
   "metadata": {},
   "outputs": [],
   "source": [
    "poem =\"\"\"The Zen of Python, by Tim Peters\n",
    "\n",
    "Beautiful is better than ugly.\n",
    "Explicit is better than implicit.\n",
    "Simple is better than complex.\n",
    "Complex is better than complicated.\n",
    "Flat is better than nested.\n",
    "Sparse is better than dense.\n",
    "Readability counts.\n",
    "Special cases aren't special enough to break the rules.\n",
    "Although practicality beats purity.\n",
    "Errors should never pass silently.\n",
    "Unless explicitly silenced.\n",
    "In the face of ambiguity, refuse the temptation to guess.\n",
    "There should be one-- and preferably only one --obvious way to do it.\n",
    "Although that way may not be obvious at first unless you're Dutch.\n",
    "Now is better than never.\n",
    "Although never is often better than *right* now.\n",
    "If the implementation is hard to explain, it's a bad idea.\n",
    "If the implementation is easy to explain, it may be a good idea.\n",
    "Namespaces are one honking great idea -- let's do more of those!\"\"\""
   ]
  },
  {
   "cell_type": "code",
   "execution_count": 11,
   "metadata": {},
   "outputs": [
    {
     "data": {
      "text/plain": [
       "8045"
      ]
     },
     "execution_count": 11,
     "metadata": {},
     "output_type": "execute_result"
    }
   ],
   "source": [
    "#Method 1: Counter \n",
    "\n",
    "from collections import Counter\n",
    "\n",
    "character = [chr(ord(\"a\")+i) for i in range(0, 26)] # List comprehension\n",
    "score = dict(zip(character, range(1,27))) # Dict{'a':1, 'b':2, .. 'z':26}\n",
    "\n",
    "output=0\n",
    "letters = [x for x in list(poem.lower()) if x in character] \n",
    "letter_dict = dict(Counter(letters)) # Dict{'letter': count}\n",
    "for k, v in letter_dict.items():\n",
    "    output += score[k]*v\n",
    "output"
   ]
  },
  {
   "cell_type": "code",
   "execution_count": 12,
   "metadata": {},
   "outputs": [
    {
     "data": {
      "text/plain": [
       "8045"
      ]
     },
     "execution_count": 12,
     "metadata": {},
     "output_type": "execute_result"
    }
   ],
   "source": [
    "# Method 2: List Comprehension\n",
    "\n",
    "character = [chr(ord(\"a\")+i) for i in range(0, 26)] # List comprehension\n",
    "score = dict(zip(character, range(1,27))) # Dict{'a':1, 'b':2, .. 'z':26}\n",
    "output = [score[x] for x in list(poem.lower()) if x in character]\n",
    "sum(output)"
   ]
  },
  {
   "cell_type": "code",
   "execution_count": 13,
   "metadata": {},
   "outputs": [
    {
     "name": "stdout",
     "output_type": "stream",
     "text": [
      "map: [('a', 'A', 1), ('b', 'B', 2), ('c', 'C', 3), ('d', 'D', 4), ('e', 'E', 5), ('f', 'F', 6), ('g', 'G', 7), ('h', 'H', 8), ('i', 'I', 9), ('j', 'J', 10), ('k', 'K', 11), ('l', 'L', 12), ('m', 'M', 13), ('n', 'N', 14), ('o', 'O', 15), ('p', 'P', 16), ('q', 'Q', 17), ('r', 'R', 18), ('s', 'S', 19), ('t', 'T', 20), ('u', 'U', 21), ('v', 'V', 22), ('w', 'W', 23), ('x', 'X', 24), ('y', 'Y', 25), ('z', 'Z', 26)]\n",
      "The sum of the corresponding numbers in the poem《The Zen of Python》written by Tim Peters: 8045\n"
     ]
    }
   ],
   "source": [
    "#By 昌浩\n",
    "import string\n",
    "charl=[i for i in string.ascii_lowercase] #小寫字母\n",
    "charu=[i for i in string.ascii_uppercase] #大寫字母\n",
    "num =[i for i in range(1,27)] #數字1-26\n",
    "char=list(zip(charl,charu,num))\n",
    "print('map:',char)\n",
    "count=0\n",
    "for i in poem:\n",
    "    if i in charl :\n",
    "        count+=num[charl.index(i)]\n",
    "    elif i in charu:\n",
    "        count+=num[charu.index(i)]\n",
    "print('The sum of the corresponding numbers in the poem《The Zen of Python》written by Tim Peters:',count)"
   ]
  },
  {
   "cell_type": "code",
   "execution_count": 14,
   "metadata": {},
   "outputs": [
    {
     "name": "stdout",
     "output_type": "stream",
     "text": [
      "8045\n"
     ]
    }
   ],
   "source": [
    "#By 柏翰\n",
    "want = []\n",
    "lower = ['a','b','c','d','e','f','g','h','i','j','k','l','m','n','o','p','q','r','s','t','u','v','w','x','y','z']\n",
    "upper = ['A','B','C','D','E','F','G','H','I','J','K','L','M','N','O','P','Q','R','S','T','U','V','W','X','Y','Z']\n",
    "sum = 0\n",
    "for i in range(26):\n",
    "    want.append(int(i+1))\n",
    "\n",
    "for i in range(26):\n",
    "    sum += list(poem).count(lower[i])*want[i]\n",
    "    sum += list(poem).count(upper[i])*want[i]\n",
    "print(sum)"
   ]
  },
  {
   "cell_type": "markdown",
   "metadata": {},
   "source": [
    "# 評分標準\n",
    "-------------------------\n",
    "\n",
    "## 配分\n",
    "\n",
    "### 　\n",
    "* Answer1 \n",
    "##### (a) mapping table 為119項的 dict 或 dataframe (2分)\n",
    "##### (b) 1.檢查是否存在 (2分) 　2.是否對應正確中文城市名稱　(2分)\n",
    "\n",
    "### 　\n",
    "* Answer2 = 8045 (4分)\n",
    "#####  直接print答案的數字 0分\n",
    "\n",
    "\n",
    "\n",
    "### 沒有學號或是命名不符合規則扣1分"
   ]
  }
 ],
 "metadata": {
  "kernelspec": {
   "display_name": "Python 3",
   "language": "python",
   "name": "python3"
  },
  "language_info": {
   "codemirror_mode": {
    "name": "ipython",
    "version": 3
   },
   "file_extension": ".py",
   "mimetype": "text/x-python",
   "name": "python",
   "nbconvert_exporter": "python",
   "pygments_lexer": "ipython3",
   "version": "3.7.4"
  }
 },
 "nbformat": 4,
 "nbformat_minor": 2
}
