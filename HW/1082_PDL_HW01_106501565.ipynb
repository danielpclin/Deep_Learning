{
 "cells": [
  {
   "cell_type": "markdown",
   "metadata": {},
   "source": [
    "# Homework #1"
   ]
  },
  {
   "cell_type": "raw",
   "metadata": {},
   "source": [
    "File Naming Rule: 1082_PDL_HWX_StudentID.ipynb\n",
    "             e.g. 1082_PDL_HW01_104123456.ipynb"
   ]
  },
  {
   "cell_type": "raw",
   "metadata": {},
   "source": [
    "Due Date: March 19, 12:00 pm. (Hard Dealine)"
   ]
  },
  {
   "cell_type": "markdown",
   "metadata": {},
   "source": [
    "How to do it? Uploading your .ipynb file into the corresponding homework in the LMS system. Any delay will not be accepted. "
   ]
  },
  {
   "cell_type": "markdown",
   "metadata": {},
   "source": [
    "\n",
    "資料來源：聯合新聞網 2017-01-21 03:18 世界日報 編譯宋凌蘭／綜合20日電"
   ]
  },
  {
   "cell_type": "markdown",
   "metadata": {},
   "source": [
    "President Donald Trump's inauguration speech and their Chinese translations are shown as follows.  "
   ]
  },
  {
   "cell_type": "code",
   "execution_count": 1,
   "metadata": {
    "pycharm": {
     "is_executing": false
    }
   },
   "outputs": [],
   "source": [
    "eng = \"\"\"Chief Justice Roberts, President Carter, President Clinton, President Bush, President Obama, fellow Americans and people of the world, thank you.\\\n",
    " We, the citizens of America, are now joined in a great national effort to rebuild our country and restore its promise for all of our people.\\\n",
    " Together, we will determine the course of America and the world for many, many years to come. We will face challenges, we will confront hardships, but we will get the job done.\\\n",
    " Every four years, we gather on these steps to carry out the orderly and peaceful transfer of power, and we are grateful to President Obama and First Lady Michelle Obama for their gracious aid throughout this transition. They have been magnificent. Thank you.\\\n",
    " Today's ceremony, however, has very special meaning because today, we are not merely transferring power from one administration to another or from one party to another, but we are transferring power from Washington, D.C. and giving it back to you, the people.\\\n",
    " For too long, a small group in our nation's capital has reaped the rewards of government while the people have borne the cost. Washington flourished, but the people did not share in its wealth. Politicians prospered, but the jobs left and the factories closed. The establishment protected itself, but not the citizens of our country. Their victories have not been your victories. Their triumphs have not been your triumphs. And while they celebrated in our nation's capital, there was little to celebrate for struggling families all across our land.\\\n",
    " That all changes starting right here and right now because this moment is your moment, it belongs to you.\\\n",
    " It belongs to everyone gathered here today and everyone watching all across America. This is your day. This is your celebration. And this, the United States of America, is your country.\\\n",
    " What truly matters is not which party controls our government, but whether our government is controlled by the people.\\\n",
    " January 20th, 2017 will be remembered as the day the people became the rulers of this nation again. The forgotten men and women of our country will be forgotten no longer.\\\n",
    " Everyone is listening to you now. You came by the tens of millions to become part of a historic movement, the likes of which the world has never seen before.\\\n",
    " At the center of this movement is a crucial conviction, that a nation exists to serve its citizens. Americans want great schools for their children, safe neighborhoods for their families, and good jobs for themselves. These are just and reasonable demands of righteous people and a righteous public.\\\n",
    " But for too many of our citizens, a different reality exists: mothers and children trapped in poverty in our inner cities; rusted out factories scattered like tombstones across the landscape of our nation; an education system flush with cash, but which leaves our young and beautiful students deprived of all knowledge; and the crime and the gangs and the drugs that have stolen too many lives and robbed our country of so much unrealized potential.\\\n",
    " This American carnage stops right here and stops right now.\\\n",
    " We are one nation and their pain is our pain. Their dreams are our dreams. And their success will be our success. We share one heart, one home, and one glorious destiny. The oath of office I take today is an oath of allegiance to all Americans.\\\n",
    " For many decades, we've enriched foreign industry at the expense of American industry; subsidized the armies of other countries, while allowing for the very sad depletion of our military. We've defended other nations' borders while refusing to defend our own.\\\n",
    " And spent trillions and trillions of dollars overseas while America's infrastructure has fallen into disrepair and decay. We've made other countries rich, while the wealth, strength and confidence of our country has dissipated over the horizon.\\\n",
    " One by one, the factories shuttered and left our shores, with not even a thought about the millions and millions of American workers that were left behind. The wealth of our middle class has been ripped from their homes and then redistributed all across the world.\\\n",
    " But that is the past. And now, we are looking only to the future.\\\n",
    " We assembled here today are issuing a new decree to be heard in every city, in every foreign capital, and in every hall of power。\\\n",
    " From this day forward, a new vision will govern our land. From this day forward, it's going to be only America first, America first.\\\n",
    " Every decision on trade, on taxes, on immigration, on foreign affairs will be made to benefit American workers and American families. We must protect our borders from the ravages of other countries making our products, stealing our companies and destroying our jobs.\\\n",
    " Protection will lead to great prosperity and strength. I will fight for you with every breath in my body and I will never ever let you down. America will start winning again, winning like never before. We will bring back our jobs. We will bring back our borders. We will bring back our wealth. And we will bring back our dreams.\\\n",
    " We will build new roads and highways and bridges and airports and tunnels and railways all across our wonderful nation. We will get our people off of welfare and back to work, rebuilding our country with American hands and American labor.\\\n",
    " We will follow two simple rules; buy American and hire American. We will seek friendship and goodwill with the nations of the world, but we do so with the understanding that it is the right of all nations to put their own interests first. We do not seek to impose our way of life on anyone, but rather to let it shine as an example. We will shine for everyone to follow.\\\n",
    " We will reinforce old alliances and form new ones and unite the civilized world against radical Islamic terrorism, which we will eradicate from the face of the Earth. At the bedrock of our politics will be a total allegiance to the United States of America, and through our loyalty to our country, we will rediscover our loyalty to each other. When you open your heart to patriotism, there is no room for prejudice.\\\n",
    " The bible tells us how good and pleasant it is when God's people live together in unity. We must speak our minds openly, debate our disagreements honestly, but always pursue solidarity. When America is united, America is totally unstoppable.\\\n",
    " There should be no fear. We are protected and we will always be protected. We will be protected by the great men and women of our military and law enforcement. And most importantly, we will be protected by God.\\\n",
    " Finally, we must think big and dream even bigger. In America, we understand that a nation is only living as long as it is striving. We will no longer accept politicians who are all talk and no action, constantly complaining, but never doing anything about it. The time for empty talk is over. Now arrives the hour of action.\\\n",
    " Do not allow anyone to tell you that it cannot be done. No challenge can match the heart and fight and spirit of America. We will not fail. Our country will thrive and prosper again.\\\n",
    " We stand at the birth of a new millennium, ready to unlock the mysteries of space, to free the earth from the miseries of disease, and to harness the energies, industries and technologies of tomorrow. A new national pride will stir ourselves, lift our sights and heal our divisions.\\\n",
    " It's time to remember that old wisdom our soldiers will never forget, that whether we are black or brown or white, we all bleed the same red blood of patriots. We all enjoy the same glorious freedoms and we all salute the same great American flag.\\\n",
    " And whether a child is born in the urban sprawl of Detroit or the wind-swept plains of Nebraska, they look up at the same night sky, they will their heart with the same dreams, and they are infused with the breath of life by the same almighty Creator.\\\n",
    " So to all Americans in every city near and far, small and large, from mountain to mountain, from ocean to ocean, hear these words. You will never be ignored again.\\\n",
    " Your voice, your hopes, and your dreams will define our American destiny. And your courage and goodness and love will forever guide us along the way.\\\n",
    " Together, we will make America strong again. We will make America wealthy again. We will make America proud again. We will make America safe again. And yes, together we will make America great again. Thank you. God bless you. And God bless America.\\\n",
    "\"\"\""
   ]
  },
  {
   "cell_type": "code",
   "execution_count": 2,
   "metadata": {
    "pycharm": {
     "is_executing": false
    }
   },
   "outputs": [],
   "source": [
    "cht = \"\"\"羅伯茲首席大法官、卡特總統、柯林頓總統、布希總統、歐巴馬總統、美國同胞和世界人民，謝謝。\\\n",
    "我們，美國人民，現在加入重建我國，恢復對所有人承諾的一項偉大全國努力。\\\n",
    "團結一致，我們將決定美國和世界未來多年的路線。我們將面臨挑戰，我們將面對困難，但是我們將完成任務。\\\n",
    "每隔四年，我們聚集在此進行井然有序、平和的政權轉移，我們感謝歐巴馬總統和第一夫人米雪兒在過度期間的親切協助。他們太棒了，謝謝。\\\n",
    "但是，今天的儀式有特別的意義，因為今天我們不僅只是政府把權力交給下一任政府，或是一個政黨交給另一政黨，而是從華府把權力交回給你們，就是人民。\\\n",
    "有太久的時間，一小群人在國家首都獲得政府獎勵，人民卻承受代價。華府欣欣向榮，但是人民卻未共享財富。政客平步青雲，但是工作離開，工廠關閉。既有體制自我保護，卻不保護我國的人民。他們的勝利不是你們的勝利。他們在國家首都慶祝時，全國各地陷入困境的家庭，沒什麼好慶祝。\\\n",
    "所有這些情況，從現在開始改變，因為這個時刻是你們的時刻，屬於你們。\\\n",
    "這個時刻屬於今天在此聚集的每個人，以及美國各地的所有觀眾。這是你們的日子，這是你們的慶祝，美利堅合眾國是你們的國家。\\\n",
    "真正重要的不是哪個政黨控制政府，而是我們政府是否由人民控制。\\\n",
    "2017年1月20日，將被紀念為人民再度成為這個國家統治者的一天。我國被遺忘的男女，將不再被遺忘。\\\n",
    "每個人都在聽你們，幾百萬人來此以成為歷史性運動的一部分，這個運動將是世界從未見過的。\\\n",
    "這個運動的中心，是一項關鍵確信，那就是一個國家存在是為了服務人民。美國人想要子女上好學校，家庭住在安全社區，自己有好工作。這些是人民理所當然的合理要求。\\\n",
    "但是對我們太多人而言，卻存在一個不同現實：母親和孩子被困在城市貧民區的貧窮，荒廢的工廠像墓碑一樣散布在全國各地，教育系統現金多多，卻讓我們年輕可愛的學生學不到知識，犯罪、幫派和毒品奪走太多人的生命，也搶走我國未能發揮的潛力。\\\n",
    "這場美國大災難現在就停止。\\\n",
    "我們是同一國，他們的痛苦是我們的痛苦，他們的夢想是的夢想，他們的成功將是我們的成功。我們有同一個心，同一個家，同一個光榮的命運。我今天宣誓的就職誓詞，是效忠所有美國人的誓詞\\\n",
    "數十年來，我們犧牲美國工業，讓外國工業致富，補助他國的軍隊，卻讓我國軍隊令人難過的耗減，我們捍衛別國的邊界，卻拒絕捍衛我們自己的邊界。\\\n",
    "在海外不斷花巨款，卻讓美國的基礎設施衰退凋零。我們幫助其他國家變富有，但是美國的財富、力量和信心卻逐漸消散。\\\n",
    "工廠一個接一個關，離開美國，根本未考慮成千上萬的美國工人失業。中產階級的財富從他們家中被奪走，然後重新在全世界分配。\\\n",
    "但這是過去。現在，我們只瞻望未來。\\\n",
    "我們今天聚集在此發出一條新法令，要讓每個都市、每個外國首都和每個權力殿堂都聽見。\\\n",
    "從今天開始，新的願景將會治理我們的土地。從此刻開始，將只是美國優先，美國優先\\\n",
    "在貿易、稅制、移民、外交事務的每項決定，將以惠及美國勞工和美國家庭為目的。我們必須保護我們的邊界，以免其他國家破壞，製造我們產品、竊取我們的公司、以及消滅我們的工作。\\\n",
    "保護將會帶來偉大的繁榮和力量。我將會竭力為你們奮戰，我永遠不會讓你們失望。美國將會開始再度勝利，且是以前從未曾有過的勝利。我們將會拿回我們的工作，我們將會恢復我們的邊界，我們將會拿回我們的財富，我們將找回我們的夢想。\\\n",
    "我們將會建設新的道路、高速公路、橋樑、機場、隧道，以及遍及我們這個美好國家的鐵路。我們要我們的人民脫離福利，重新工作，用美國人的雙手和勞力，重建我們的國家。\\\n",
    "我們將會遵循兩個簡單的法則：購買美國貨和僱用美國人。我們將會尋求世界各國的友誼和善意，但我們此舉，是基於理解把本身利益置於優先，是所有國家的權利。我們不尋求把我們的生活方式加諸於每個人身上，而是要讓此作為典範發揚光大，以讓所有人效法。\\\n",
    "我們將加強原有的聯盟，並組成新的聯盟，同時團結文明世界以對抗激進伊斯蘭恐怖主義，我們將會把他們從地球完全消滅。我們政治的基本原則將是完全效忠美國，以及透過我們對國家的忠誠，重新發現我們對彼此的忠誠。在你們開啟愛國之心後，偏見將無地自容。\\\n",
    "聖經告訴我們，當上帝的子民和睦同居，是何等的善、何等的美。我們必須坦誠發言，誠實地辯論歧見，但永遠追求團結，當美國團結一致，無人能擋。\\\n",
    "我們應當無所懼怕。我們受到保護，而且我們一直將受到保護。我們得到我們國家偉大的男女軍人及執法界的保護，更重要的是，我們受到上帝的保護。\\\n",
    "最後，我們應思考做大事，有更大的夢想。在美國，我們瞭解一個國家只有生氣蓬勃的成長，才能生存。我們不再接受只有空談而不做事的政治人物，他們不斷地抱怨，卻從未見到他們拿出行動來。空談的時代已經過去了，現在是拿出行動的時候了\\\n",
    "別讓任何人告訴那是辦不到的事。對有熱情，肯奮戰與有鬥志的美國人來說，沒有任何挑戰是太困難的。我們不會失敗，我們國家將再度蓬勃繁榮。\\\n",
    "我們站在一個千禧世代興起之初，準備解開太空神祕的時代，解放地球受到疾病之苦的時代，並且將運用未來能源、工業與技術的時代。新的國家榮譽將激勵我們，提高我們的眼界，治癒我們的分裂\\\n",
    "我們應該記取我們士兵永誌不忘的座右銘，那就是不論我們是黑色、是棕色或白色皮膚，我們所流的都是相同的愛國熱血，我們享有的是相同的崇高自由，我們致敬的是相同的偉大美國國旗。\\\n",
    "不論兒童是在底特律郊區或內布拉斯加平原出生，他們仰望的是相同的夜空，他們內心所有的是相同的夢想，他們被同一個偉大造物主的生命氣息充滿。\\\n",
    "對不論遠近、不論大小的每個城市的美國人，從此山到彼山，從此海到彼海，我要對你們說：你們不會再被漠視。\\\n",
    "你們聲音，你們的希望，你們的夢想，將決定美國的命運。你們的勇氣、善良和愛心，將永遠引導我們。\\\n",
    "團結一致，我們將讓美國再度強大，我們將讓美國再度富裕，我們將讓美國再度驕傲，我們將讓美國再度安全。是的，團結一致，我們會讓美國再度偉大。謝謝，天佑你們，天佑美國。\\\n",
    "\"\"\""
   ]
  },
  {
   "cell_type": "markdown",
   "metadata": {},
   "source": [
    "###  Question 1: (5 points)\n",
    "### How many words in the original version excluding punctuation?"
   ]
  },
  {
   "cell_type": "raw",
   "metadata": {},
   "source": [
    "Notes: you can NOT use any program structures (e.g. for, if, while, ...)"
   ]
  },
  {
   "cell_type": "markdown",
   "metadata": {},
   "source": [
    "### Answer 1 "
   ]
  },
  {
   "cell_type": "code",
   "execution_count": 3,
   "metadata": {
    "pycharm": {
     "is_executing": false
    }
   },
   "outputs": [
    {
     "data": {
      "text/plain": "1450"
     },
     "metadata": {},
     "output_type": "execute_result",
     "execution_count": 3
    }
   ],
   "source": [
    "len(eng.split())"
   ]
  },
  {
   "cell_type": "markdown",
   "metadata": {},
   "source": [
    "### Question 2: (5 points)\n",
    "### How many characters in the Chinese version excluding punctuation? "
   ]
  },
  {
   "cell_type": "raw",
   "metadata": {},
   "source": [
    "Notes: you can NOT use any program structures (e.g. for, if, while, ...)"
   ]
  },
  {
   "cell_type": "markdown",
   "metadata": {},
   "source": [
    "### Answer 2"
   ]
  },
  {
   "cell_type": "code",
   "execution_count": 4,
   "metadata": {
    "pycharm": {
     "name": "#%%\n",
     "is_executing": false
    }
   },
   "outputs": [
    {
     "data": {
      "text/plain": "2160"
     },
     "metadata": {},
     "output_type": "execute_result",
     "execution_count": 4
    }
   ],
   "source": [
    "len(cht.replace(\"。\", \"\").replace(\"，\", \"\").replace(\"：\", \"\").replace(\"、\", \"\"))\n"
   ]
  }
 ],
 "metadata": {
  "kernelspec": {
   "display_name": "Python 3",
   "language": "python",
   "name": "python3"
  },
  "language_info": {
   "codemirror_mode": {
    "name": "ipython",
    "version": 3
   },
   "file_extension": ".py",
   "mimetype": "text/x-python",
   "name": "python",
   "nbconvert_exporter": "python",
   "pygments_lexer": "ipython3",
   "version": "3.7.7"
  },
  "pycharm": {
   "stem_cell": {
    "cell_type": "raw",
    "source": [],
    "metadata": {
     "collapsed": false
    }
   }
  }
 },
 "nbformat": 4,
 "nbformat_minor": 2
}
